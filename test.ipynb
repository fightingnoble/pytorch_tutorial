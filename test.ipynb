{
 "cells": [
  {
   "cell_type": "code",
   "execution_count": 2,
   "metadata": {
    "collapsed": true,
    "pycharm": {
     "is_executing": false
    }
   },
   "outputs": [],
   "source": [
    "import torch"
   ]
  },
  {
   "cell_type": "markdown",
   "metadata": {
    "pycharm": {
     "name": "#%%\n"
    }
   },
   "source": [
    "# graph propagate"
   ]
  },
  {
   "cell_type": "code",
   "execution_count": 4,
   "metadata": {
    "pycharm": {
     "is_executing": false,
     "name": "#%%\n"
    }
   },
   "outputs": [
    {
     "name": "stdout",
     "output_type": "stream",
     "text": [
      "tensor([1., 2., 3.], requires_grad=True) tensor([1., 2., 3.], requires_grad=True) tensor([3., 6., 9.]) tensor([3., 6., 9.]) tensor(62., grad_fn=<SumBackward0>)\n",
      "tensor([ 6.,  8., 10.]) tensor([1., 1., 1.])\n"
     ]
    }
   ],
   "source": [
    "mul_t =torch.tensor([1.,2.,3.],requires_grad=True)\n",
    "mul_tt =torch.tensor([1.,2.,3.],requires_grad=True)\n",
    "with torch.no_grad():\n",
    "    mul_t1 = mul_t*3\n",
    "mul_t2 = mul_t*4+mul_t**2\n",
    "mul_o = torch.sum(mul_tt+mul_t1+mul_t2)\n",
    "mul_o.backward()\n",
    "print(mul_t,mul_tt,mul_t1,mul_t1,mul_o)\n",
    "print(mul_t.grad,mul_tt.grad)\n",
    "\n"
   ]
  },
  {
   "cell_type": "code",
   "execution_count": 6,
   "metadata": {},
   "outputs": [
    {
     "name": "stdout",
     "output_type": "stream",
     "text": [
      "Sequential(\n",
      "  (0): Conv2d(3, 128, kernel_size=(3, 3), stride=(1, 1), padding=(1, 1))\n",
      "  (1): BatchNorm2d(128, eps=1e-05, momentum=0.1, affine=False, track_running_stats=True)\n",
      "  (2): ReLU()\n",
      "  (3): Conv2d(128, 128, kernel_size=(3, 3), stride=(1, 1), padding=(1, 1))\n",
      "  (4): BatchNorm2d(128, eps=1e-05, momentum=0.1, affine=False, track_running_stats=True)\n",
      "  (5): ReLU()\n",
      "  (6): MaxPool2d(kernel_size=2, stride=2, padding=0, dilation=1, ceil_mode=False)\n",
      "  (7): Conv2d(128, 256, kernel_size=(3, 3), stride=(1, 1), padding=(1, 1))\n",
      "  (8): BatchNorm2d(256, eps=1e-05, momentum=0.1, affine=False, track_running_stats=True)\n",
      "  (9): ReLU()\n",
      "  (10): Conv2d(256, 256, kernel_size=(3, 3), stride=(1, 1), padding=(1, 1))\n",
      "  (11): BatchNorm2d(256, eps=1e-05, momentum=0.1, affine=False, track_running_stats=True)\n",
      "  (12): ReLU()\n",
      "  (13): MaxPool2d(kernel_size=2, stride=2, padding=0, dilation=1, ceil_mode=False)\n",
      "  (14): Conv2d(256, 512, kernel_size=(3, 3), stride=(1, 1), padding=(1, 1))\n",
      "  (15): BatchNorm2d(512, eps=1e-05, momentum=0.1, affine=False, track_running_stats=True)\n",
      "  (16): ReLU()\n",
      "  (17): Conv2d(512, 512, kernel_size=(3, 3), stride=(1, 1), padding=(1, 1))\n",
      "  (18): BatchNorm2d(512, eps=1e-05, momentum=0.1, affine=False, track_running_stats=True)\n",
      "  (19): ReLU()\n",
      "  (20): MaxPool2d(kernel_size=2, stride=2, padding=0, dilation=1, ceil_mode=False)\n",
      "  (21): Conv2d(512, 1024, kernel_size=(3, 3), stride=(1, 1))\n",
      "  (22): BatchNorm2d(1024, eps=1e-05, momentum=0.1, affine=False, track_running_stats=True)\n",
      "  (23): ReLU()\n",
      "  (24): MaxPool2d(kernel_size=2, stride=2, padding=0, dilation=1, ceil_mode=False)\n",
      ")\n",
      "Sequential(\n",
      "  (0): Linear(in_features=1024, out_features=10, bias=True)\n",
      ")\n",
      "buffers!!!\n",
      "features.1.running_mean\n",
      "features.1.running_var\n",
      "features.1.num_batches_tracked\n",
      "features.4.running_mean\n",
      "features.4.running_var\n",
      "features.4.num_batches_tracked\n",
      "features.8.running_mean\n",
      "features.8.running_var\n",
      "features.8.num_batches_tracked\n",
      "features.11.running_mean\n",
      "features.11.running_var\n",
      "features.11.num_batches_tracked\n",
      "features.15.running_mean\n",
      "features.15.running_var\n",
      "features.15.num_batches_tracked\n",
      "features.18.running_mean\n",
      "features.18.running_var\n",
      "features.18.num_batches_tracked\n",
      "features.22.running_mean\n",
      "features.22.running_var\n",
      "features.22.num_batches_tracked\n",
      "modules!!!\n",
      "\n",
      "features\n",
      "features.0\n",
      "features.1\n",
      "features.2\n",
      "features.3\n",
      "features.4\n",
      "features.5\n",
      "features.6\n",
      "features.7\n",
      "features.8\n",
      "features.9\n",
      "features.10\n",
      "features.11\n",
      "features.12\n",
      "features.13\n",
      "features.14\n",
      "features.15\n",
      "features.16\n",
      "features.17\n",
      "features.18\n",
      "features.19\n",
      "features.20\n",
      "features.21\n",
      "features.22\n",
      "features.23\n",
      "features.24\n",
      "classifier\n",
      "classifier.0\n",
      "layers!!!\n",
      "features\n",
      "classifier\n",
      "parameter!!!\n",
      "features.0.weight : torch.Size([128, 3, 3, 3])\n",
      "features.0.bias : torch.Size([128])\n",
      "features.3.weight : torch.Size([128, 128, 3, 3])\n",
      "features.3.bias : torch.Size([128])\n",
      "features.7.weight : torch.Size([256, 128, 3, 3])\n",
      "features.7.bias : torch.Size([256])\n",
      "features.10.weight : torch.Size([256, 256, 3, 3])\n",
      "features.10.bias : torch.Size([256])\n",
      "features.14.weight : torch.Size([512, 256, 3, 3])\n",
      "features.14.bias : torch.Size([512])\n",
      "features.17.weight : torch.Size([512, 512, 3, 3])\n",
      "features.17.bias : torch.Size([512])\n",
      "features.21.weight : torch.Size([1024, 512, 3, 3])\n",
      "features.21.bias : torch.Size([1024])\n",
      "classifier.0.weight : torch.Size([10, 1024])\n",
      "classifier.0.bias : torch.Size([10])\n",
      "dict_keys(['features.0.weight', 'features.0.bias', 'features.3.weight', 'features.3.bias', 'features.7.weight', 'features.7.bias', 'features.10.weight', 'features.10.bias', 'features.14.weight', 'features.14.bias', 'features.17.weight', 'features.17.bias', 'features.21.weight', 'features.21.bias', 'classifier.0.weight', 'classifier.0.bias'])\n"
     ]
    }
   ],
   "source": [
    "import model\n",
    "import torch\n",
    "\n",
    "cnn = model.cifar10(n_channel=128)\n",
    "\n",
    "print('buffers!!!')\n",
    "for name,buffer in cnn.named_buffers():\n",
    "    print(name)\n",
    "\n",
    "print('modules!!!')\n",
    "for name,module in cnn.named_modules():\n",
    "    print(name)\n",
    "\n",
    "print('layers!!!')\n",
    "for name,layer in cnn.named_children():\n",
    "    print(name)\n",
    "print('parameter!!!')\n",
    "parm = {}\n",
    "for name, parameters in cnn.named_parameters():\n",
    "    print(name, ':', parameters.size())\n",
    "    parm[name] = parameters.detach().numpy()\n",
    "print(parm.keys())\n"
   ]
  },
  {
   "cell_type": "code",
   "execution_count": 29,
   "metadata": {},
   "outputs": [
    {
     "name": "stdout",
     "output_type": "stream",
     "text": [
      "torch.Size([10, 1, 28, 28])\n"
     ]
    }
   ],
   "source": [
    "input = torch.arange(10*1*28*28).view(10,1,28,28).float()\n",
    "print(input.shape)"
   ]
  },
  {
   "cell_type": "code",
   "execution_count": 31,
   "metadata": {},
   "outputs": [
    {
     "name": "stdout",
     "output_type": "stream",
     "text": [
      "torch.Size([10, 25, 576])\n"
     ]
    }
   ],
   "source": [
    "unfold_d = torch.nn.functional.unfold(input,5)\n",
    "# print(unfold_d)\n",
    "print(unfold_d.shape)"
   ]
  },
  {
   "cell_type": "code",
   "execution_count": 35,
   "metadata": {},
   "outputs": [
    {
     "data": {
      "text/plain": [
       "torch.Tensor"
      ]
     },
     "execution_count": 35,
     "metadata": {},
     "output_type": "execute_result"
    }
   ],
   "source": [
    "torch.tensor(unfold_d.shape)"
   ]
  },
  {
   "cell_type": "code",
   "execution_count": 38,
   "metadata": {
    "scrolled": true
   },
   "outputs": [
    {
     "data": {
      "text/plain": [
       "tensor(144000)"
      ]
     },
     "execution_count": 38,
     "metadata": {},
     "output_type": "execute_result"
    }
   ],
   "source": [
    "torch.cumprod(torch.tensor(unfold_d.shape),0)[-1]"
   ]
  },
  {
   "cell_type": "code",
   "execution_count": null,
   "metadata": {},
   "outputs": [],
   "source": []
  }
 ],
 "metadata": {
  "kernelspec": {
   "display_name": "Python 3",
   "language": "python",
   "name": "python3"
  },
  "language_info": {
   "codemirror_mode": {
    "name": "ipython",
    "version": 3
   },
   "file_extension": ".py",
   "mimetype": "text/x-python",
   "name": "python",
   "nbconvert_exporter": "python",
   "pygments_lexer": "ipython3",
   "version": "3.7.6"
  },
  "pycharm": {
   "stem_cell": {
    "cell_type": "raw",
    "metadata": {
     "collapsed": false
    },
    "source": []
   }
  }
 },
 "nbformat": 4,
 "nbformat_minor": 1
}
